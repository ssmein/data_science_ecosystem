{
 "cells": [
  {
   "cell_type": "markdown",
   "id": "a4f71ff5",
   "metadata": {},
   "source": [
    "# Data Science Tools and Ecosystem "
   ]
  },
  {
   "cell_type": "markdown",
   "id": "bd2b3ba4",
   "metadata": {},
   "source": [
    "## In this notebook, Data Science Tools and Ecosystem are summarized."
   ]
  },
  {
   "cell_type": "markdown",
   "id": "ac13f603",
   "metadata": {},
   "source": [
    "## Objectives:\n",
    "- List of popular languages\n",
    "- Libraries used by data scientists\n",
    "- Data Science Tools\n",
    "- Arithmetic Expression in Python"
   ]
  },
  {
   "cell_type": "markdown",
   "id": "d6573a0b",
   "metadata": {},
   "source": [
    "#### Some of the popular languages that Data Scientists use are:\n",
    "\n",
    "1. Python\n",
    "2. R\n",
    "3. SQL\n",
    "4. Java\n",
    "5. Julia\n",
    "6. Scala\n",
    "7. C/C++\n",
    "8. JavaScript"
   ]
  },
  {
   "cell_type": "markdown",
   "id": "988990ea",
   "metadata": {},
   "source": [
    "#### Some of the commonly used libraries used by Data Scientists include:\n",
    "\n",
    "1. TensorFlow\n",
    "2. NumPy\n",
    "3. SciPy\n",
    "4. Pandas\n",
    "5. Matplotlib\n",
    "6. Keras\n",
    "7. SciKit-Learn\n",
    "8. PyTorch\n",
    "9. Scrapy\n",
    "10. BeautifulSoup"
   ]
  },
  {
   "cell_type": "markdown",
   "id": "0dc82564",
   "metadata": {},
   "source": [
    "#### \n",
    "Data Science Tools:\n",
    "    \n",
    "|Data Science Tools| \n",
    "|:------| \n",
    "|Jupyter Notebook|\n",
    "|RStudio|\n",
    "|Apache Spark|"
   ]
  },
  {
   "cell_type": "code",
   "execution_count": 8,
   "id": "2fd79d4b",
   "metadata": {},
   "outputs": [
    {
     "name": "stdout",
     "output_type": "stream",
     "text": [
      "7.853981633974483\n",
      "11\n"
     ]
    }
   ],
   "source": [
    "# Below are a few examples of evaluating arithmetic expressions in Python.\n",
    "import math\n",
    "\n",
    "x = math.sqrt(25) * math.pi / 2\n",
    "print(x)\n",
    "# Result: 7.853981633974483\n",
    "\n",
    "x = 5\n",
    "y = 3\n",
    "z = x + y * 2\n",
    "print(z)\n",
    "# Result: 11"
   ]
  },
  {
   "cell_type": "code",
   "execution_count": 12,
   "id": "66ea7f62",
   "metadata": {},
   "outputs": [
    {
     "data": {
      "text/plain": [
       "17"
      ]
     },
     "execution_count": 12,
     "metadata": {},
     "output_type": "execute_result"
    }
   ],
   "source": [
    "# This a simple arithmetic expression to mutiply then add integers\n",
    "(3*4)+5\n",
    "# Result: 17\n"
   ]
  },
  {
   "cell_type": "code",
   "execution_count": 10,
   "id": "ceff5cba",
   "metadata": {},
   "outputs": [
    {
     "name": "stdout",
     "output_type": "stream",
     "text": [
      "3.3333333333333335 hours\n"
     ]
    }
   ],
   "source": [
    "# This will convert 200 minutes to hours by diving by 60\n",
    "hours = 0\n",
    "mins = 0\n",
    "\n",
    "time = 200\n",
    "\n",
    "hours = time / 60\n",
    "print(str(hours) + \" hours\")\n",
    "\n",
    "# Result: 3.3333333333333335 hours"
   ]
  },
  {
   "cell_type": "markdown",
   "id": "1ced7e7b",
   "metadata": {},
   "source": [
    "## Author\n",
    "Sai Soum Mein"
   ]
  },
  {
   "cell_type": "code",
   "execution_count": null,
   "id": "e9309c60",
   "metadata": {},
   "outputs": [],
   "source": []
  }
 ],
 "metadata": {
  "kernelspec": {
   "display_name": "Python 3 (ipykernel)",
   "language": "python",
   "name": "python3"
  },
  "language_info": {
   "codemirror_mode": {
    "name": "ipython",
    "version": 3
   },
   "file_extension": ".py",
   "mimetype": "text/x-python",
   "name": "python",
   "nbconvert_exporter": "python",
   "pygments_lexer": "ipython3",
   "version": "3.9.13"
  }
 },
 "nbformat": 4,
 "nbformat_minor": 5
}
